{
 "cells": [
  {
   "cell_type": "code",
   "execution_count": 4,
   "metadata": {},
   "outputs": [
    {
     "name": "stdout",
     "output_type": "stream",
     "text": [
      "{'brand': 'ford', 'model': 'Mustang'}\n"
     ]
    }
   ],
   "source": [
    "car = {\"brand\" : \"ford\" , \"model\" : \"Mustang\" , \"Year\" : 1992}\n",
    "car.pop(\"Year\")\n",
    "print(car)"
   ]
  },
  {
   "cell_type": "code",
   "execution_count": 5,
   "metadata": {},
   "outputs": [
    {
     "name": "stdout",
     "output_type": "stream",
     "text": [
      "{'brand': 'ford', 'model': 'Mustang', 'Year': 1992, 'color': 'black'}\n"
     ]
    }
   ],
   "source": [
    "car = {\"brand\" : \"ford\" , \"model\" : \"Mustang\" , \"Year\" : 1992}\n",
    "car.update({\"color\" : \"black\"})\n",
    "print(car)"
   ]
  },
  {
   "cell_type": "code",
   "execution_count": 6,
   "metadata": {},
   "outputs": [
    {
     "name": "stdout",
     "output_type": "stream",
     "text": [
      "{'brand': 'ford', 'model': 'Mustang'}\n"
     ]
    }
   ],
   "source": [
    "car = {\"brand\" : \"ford\" , \"model\" : \"Mustang\" , \"Year\" : 1992}\n",
    "car.popitem()\n",
    "print(car)"
   ]
  },
  {
   "cell_type": "markdown",
   "metadata": {},
   "source": [
    "popitem dosen't take any argument, what it does is to remove the last key and it's value from the dictionary..."
   ]
  },
  {
   "cell_type": "code",
   "execution_count": 8,
   "metadata": {},
   "outputs": [
    {
     "name": "stdout",
     "output_type": "stream",
     "text": [
      "{'brand': 'ford', 'model': 'Mustang', 'Year': 1992, 'color': 'white'}\n"
     ]
    }
   ],
   "source": [
    "car = {\"brand\" : \"ford\" , \"model\" : \"Mustang\" , \"Year\" : 1992}\n",
    "car.setdefault(\"color\",\"white\")\n",
    "car.setdefault(\"brand\",\"maruti\")\n",
    "print(car)"
   ]
  },
  {
   "cell_type": "markdown",
   "metadata": {},
   "source": [
    "Set Default function adds a new key value if it's not present in the dictionary but if we are using a defined key and trying to update through set default, it won't show any change..."
   ]
  },
  {
   "cell_type": "code",
   "execution_count": 9,
   "metadata": {},
   "outputs": [
    {
     "name": "stdout",
     "output_type": "stream",
     "text": [
      "dict_items([('brand', 'ford'), ('model', 'Mustang'), ('Year', 1992)])\n",
      "{'brand': 'ford', 'model': 'Mustang', 'Year': 1992}\n"
     ]
    }
   ],
   "source": [
    "car = {\"brand\" : \"ford\" , \"model\" : \"Mustang\" , \"Year\" : 1992}\n",
    "print(car.items())\n",
    "print(car)"
   ]
  },
  {
   "cell_type": "markdown",
   "metadata": {},
   "source": [
    "items function converts dictionary keys into list..."
   ]
  },
  {
   "cell_type": "code",
   "execution_count": 10,
   "metadata": {},
   "outputs": [
    {
     "name": "stdout",
     "output_type": "stream",
     "text": [
      "Nested Dictionary 1-\n",
      "{'Dict1': {}, 'Dict2': {}}\n"
     ]
    }
   ],
   "source": [
    "Dict = { 'Dict1' : {} , 'Dict2' : {}}\n",
    "print(\"Nested Dictionary 1-\")\n",
    "print(Dict)"
   ]
  },
  {
   "cell_type": "code",
   "execution_count": 11,
   "metadata": {},
   "outputs": [
    {
     "name": "stdout",
     "output_type": "stream",
     "text": [
      "Nested Dictionary 2-\n",
      "{'Dict1': {'name': 'Ram', 'age': 19}, 'Dict2': {'name': 'Shyam', 'age': 99}}\n"
     ]
    }
   ],
   "source": [
    "Dict = { 'Dict1' : {'name' : 'Ram' , 'age' : 19} , 'Dict2' : {'name' : 'Shyam' , 'age' : 99}}\n",
    "print(\"Nested Dictionary 2-\")\n",
    "print(Dict)"
   ]
  },
  {
   "cell_type": "code",
   "execution_count": 13,
   "metadata": {},
   "outputs": [
    {
     "name": "stdout",
     "output_type": "stream",
     "text": [
      "Nested Dictionary 3-\n",
      "{'Dict1': {1: 'G', 2: 'F', 3: 'G'}, 'Dict2': {'Name': 'Geeks', 1: [1, 2]}}\n"
     ]
    }
   ],
   "source": [
    "Dict = { 'Dict1' : {1 : 'G' , 2 : 'F' , 3 : 'G'} , 'Dict2' : {'Name' : 'Geeks' , 1 : [1,2]}}\n",
    "print(\"Nested Dictionary 3-\")\n",
    "print(Dict)"
   ]
  },
  {
   "cell_type": "code",
   "execution_count": 15,
   "metadata": {},
   "outputs": [
    {
     "name": "stdout",
     "output_type": "stream",
     "text": [
      "Initial nested dictionary :-\n",
      "{}\n",
      "\n",
      "After adding dictionary Dict1\n",
      "{'Dict1': {'name': 'Bob', 'age': 21}}\n",
      "{'Dict1': {'name': 'Bob', 'age': 21}, 'Dict2': {'Name': 'Cara', 'age': 25}}\n"
     ]
    }
   ],
   "source": [
    "Dict = {}\n",
    "print(\"Initial nested dictionary :-\")\n",
    "print(Dict)\n",
    "\n",
    "Dict['Dict1'] = {}\n",
    "\n",
    "# Adding elements one at a time\n",
    "Dict['Dict1']['name'] = 'Bob'\n",
    "Dict['Dict1']['age'] = 21\n",
    "print(\"\\nAfter adding dictionary Dict1\")\n",
    "print(Dict)\n",
    "\n",
    "#Adding whole dictionary\n",
    "Dict['Dict2'] = {'Name' : 'Cara' , 'age' : 25}\n",
    "print(Dict)"
   ]
  },
  {
   "cell_type": "code",
   "execution_count": 17,
   "metadata": {},
   "outputs": [
    {
     "name": "stdout",
     "output_type": "stream",
     "text": [
      "Ram\n",
      "29\n"
     ]
    }
   ],
   "source": [
    "# Nested dictionary having same keys\n",
    "Dict = {'Dict1' : {'Name' : 'Ram' , 'Age' : '19'} , 'Dict2' : {'Name' : 'Shyam' , 'Age' : '29'}}\n",
    "\n",
    "# Prints value corresponding to key 'name' in Dict1\n",
    "print(Dict['Dict1']['Name'])\n",
    "\n",
    "# Prints value corresponding to key 'age' in Dict2\n",
    "print(Dict['Dict2']['Age'])"
   ]
  },
  {
   "cell_type": "code",
   "execution_count": 18,
   "metadata": {},
   "outputs": [
    {
     "name": "stdout",
     "output_type": "stream",
     "text": [
      "Initial nested dictionary :-\n",
      "{'Dict1': {'Name': 'Ram', 'Age': '19'}, 'Dict2': {'Name': 'Shyam', 'Age': '29'}}\n",
      "\n",
      "Deleting Dict2 :-\n",
      "{'Dict1': {'Name': 'Ram', 'Age': '19'}}\n",
      "\n",
      "Deleting dict1 :-\n",
      "{}\n"
     ]
    }
   ],
   "source": [
    "Dict = {'Dict1' : {'Name' : 'Ram' , 'Age' : '19'} , 'Dict2' : {'Name' : 'Shyam' , 'Age' : '29'}}\n",
    "print(\"Initial nested dictionary :-\")\n",
    "print(Dict)\n",
    "\n",
    "# Deleting dictionary using del keyword\n",
    "print(\"\\nDeleting Dict2 :-\")\n",
    "del Dict['Dict2']\n",
    "print(Dict)\n",
    "\n",
    "# Deleting dictionary using pop function\n",
    "print(\"\\nDeleting dict1 :-\")\n",
    "Dict.pop('Dict1')\n",
    "print(Dict)"
   ]
  },
  {
   "cell_type": "markdown",
   "metadata": {},
   "source": [
    "SORTING IN LIST , TUPPLE , DICTIONARY ......"
   ]
  },
  {
   "cell_type": "code",
   "execution_count": 19,
   "metadata": {},
   "outputs": [
    {
     "name": "stdout",
     "output_type": "stream",
     "text": [
      "[1, 2, 3, 4, 7, 99, 1000]\n"
     ]
    }
   ],
   "source": [
    "numbers = [3,1,4,7,99,1000,2] \n",
    "numbers.sort() # sort is a method.\n",
    "print(numbers)"
   ]
  },
  {
   "cell_type": "code",
   "execution_count": 1,
   "metadata": {},
   "outputs": [
    {
     "name": "stdout",
     "output_type": "stream",
     "text": [
      "(1, 3, 5, 7)\n"
     ]
    }
   ],
   "source": [
    "tup = (3,1,5,7)\n",
    "sor_tup = tuple(sorted(tup))\n",
    "print(sor_tup)"
   ]
  },
  {
   "cell_type": "markdown",
   "metadata": {},
   "source": [
    "                                                             Functions vs Method\n",
    "Method is basically using functions explicitely. \n",
    "Method is associated by an object with the help of dot operator whereas functions are used independently with or without some arguments."
   ]
  },
  {
   "cell_type": "code",
   "execution_count": 21,
   "metadata": {},
   "outputs": [
    {
     "name": "stdout",
     "output_type": "stream",
     "text": [
      "[1, 2, 3, 4, 7, 99, 1000]\n"
     ]
    }
   ],
   "source": [
    "numbers = [3,1,4,7,99,1000,2]\n",
    "print(sorted(numbers)) # sorted is a function."
   ]
  },
  {
   "cell_type": "markdown",
   "metadata": {},
   "source": [
    "[] -> List (Ordered Collection Of Items) (mutable)\n",
    "() -> Tuple (Ordered Collection Of Items) (Immutable)\n",
    "{} -> Dictionary (Unordered Collection Of Items) (Mutable)"
   ]
  },
  {
   "cell_type": "markdown",
   "metadata": {},
   "source": [
    "Sorting by Keys ->"
   ]
  },
  {
   "cell_type": "code",
   "execution_count": 25,
   "metadata": {},
   "outputs": [
    {
     "name": "stdout",
     "output_type": "stream",
     "text": [
      "{'five': 5, 'one': 1, 'three': 3, 'two': 2}\n"
     ]
    }
   ],
   "source": [
    "Dict = {\"five\" : 5 , \"two\" : 2 , \"three\" : 3 , \"one\" : 1}\n",
    "print(dict(sorted(Dict.items())))"
   ]
  },
  {
   "cell_type": "markdown",
   "metadata": {},
   "source": [
    "Sorting by Values ->"
   ]
  },
  {
   "cell_type": "code",
   "execution_count": 2,
   "metadata": {},
   "outputs": [
    {
     "name": "stdout",
     "output_type": "stream",
     "text": [
      "{'five': 5, 'one': 1, 'three': 3, 'two': 2}\n"
     ]
    }
   ],
   "source": [
    "Dict = {\"five\" : 5 , \"two\" : 2 , \"three\" : 3 , \"one\" : 1}\n",
    "sor_Dict = dict(sorted(Dict.items(). key=lambda item: item[1]))\n",
    "print(sor_Dict)"
   ]
  },
  {
   "cell_type": "markdown",
   "metadata": {},
   "source": [
    "Convert List to Tuple"
   ]
  },
  {
   "cell_type": "code",
   "execution_count": 3,
   "metadata": {},
   "outputs": [
    {
     "name": "stdout",
     "output_type": "stream",
     "text": [
      "(1, 2, 3, 4, 5)\n"
     ]
    }
   ],
   "source": [
    "my_list = [1,2,3,4,5]\n",
    "print(tuple(my_list))"
   ]
  },
  {
   "cell_type": "markdown",
   "metadata": {},
   "source": [
    "Convert Tuple to List"
   ]
  },
  {
   "cell_type": "code",
   "execution_count": 4,
   "metadata": {},
   "outputs": [
    {
     "name": "stdout",
     "output_type": "stream",
     "text": [
      "[1, 2, 3, 4, 5]\n"
     ]
    }
   ],
   "source": [
    "my_tuple = (1,2,3,4,5)\n",
    "print(list(my_tuple))"
   ]
  },
  {
   "cell_type": "markdown",
   "metadata": {},
   "source": [
    "Convert Tuple to List"
   ]
  },
  {
   "cell_type": "code",
   "execution_count": 5,
   "metadata": {},
   "outputs": [
    {
     "name": "stdout",
     "output_type": "stream",
     "text": [
      "{1, 2, 3, 4, 5}\n"
     ]
    }
   ],
   "source": [
    "my_tuple = (1,2,3,4,5)\n",
    "print(set(my_tuple))"
   ]
  },
  {
   "cell_type": "markdown",
   "metadata": {},
   "source": [
    "Convert Set to List"
   ]
  },
  {
   "cell_type": "code",
   "execution_count": 6,
   "metadata": {},
   "outputs": [
    {
     "name": "stdout",
     "output_type": "stream",
     "text": [
      "[1, 2, 3, 4, 5]\n"
     ]
    }
   ],
   "source": [
    "my_set = {1,2,3,4,5}\n",
    "print(list(my_set))"
   ]
  },
  {
   "cell_type": "markdown",
   "metadata": {},
   "source": [
    "Convert Set to Tuple"
   ]
  },
  {
   "cell_type": "code",
   "execution_count": 7,
   "metadata": {},
   "outputs": [
    {
     "name": "stdout",
     "output_type": "stream",
     "text": [
      "(1, 2, 3, 4, 5)\n"
     ]
    }
   ],
   "source": [
    "my_set = {1,2,3,4,5}\n",
    "print(tuple(my_set))"
   ]
  },
  {
   "cell_type": "markdown",
   "metadata": {},
   "source": [
    "Convert Dictionary to List  \n",
    "1-> List of Keys\n",
    "2-> List of Values"
   ]
  },
  {
   "cell_type": "code",
   "execution_count": 8,
   "metadata": {},
   "outputs": [
    {
     "name": "stdout",
     "output_type": "stream",
     "text": [
      "['one', 'two', 'three']\n",
      "[1, 2, 3]\n"
     ]
    }
   ],
   "source": [
    "my_dict = {'one':1, 'two':2, 'three':3}\n",
    "keys_list = list(my_dict.keys())\n",
    "values_list = list(my_dict.values())\n",
    "print(keys_list)\n",
    "print(values_list)"
   ]
  }
 ],
 "metadata": {
  "kernelspec": {
   "display_name": "Python 3",
   "language": "python",
   "name": "python3"
  },
  "language_info": {
   "codemirror_mode": {
    "name": "ipython",
    "version": 3
   },
   "file_extension": ".py",
   "mimetype": "text/x-python",
   "name": "python",
   "nbconvert_exporter": "python",
   "pygments_lexer": "ipython3",
   "version": "3.11.5"
  }
 },
 "nbformat": 4,
 "nbformat_minor": 2
}
